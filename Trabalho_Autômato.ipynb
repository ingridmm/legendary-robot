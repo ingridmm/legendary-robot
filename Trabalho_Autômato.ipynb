{
  "nbformat": 4,
  "nbformat_minor": 0,
  "metadata": {
    "colab": {
      "provenance": [],
      "authorship_tag": "ABX9TyNqdBTdmet24BTwwTYGf08K",
      "include_colab_link": true
    },
    "kernelspec": {
      "name": "python3",
      "display_name": "Python 3"
    },
    "language_info": {
      "name": "python"
    }
  },
  "cells": [
    {
      "cell_type": "markdown",
      "metadata": {
        "id": "view-in-github",
        "colab_type": "text"
      },
      "source": [
        "<a href=\"https://colab.research.google.com/github/ingridmm/legendary-robot/blob/main/Trabalho_Aut%C3%B4mato.ipynb\" target=\"_parent\"><img src=\"https://colab.research.google.com/assets/colab-badge.svg\" alt=\"Open In Colab\"/></a>"
      ]
    },
    {
      "cell_type": "markdown",
      "source": [
        "# 1. Implemente AFDs, em uma linguagem de programação à sua escolha, que aceitem as seguintes cadeias:"
      ],
      "metadata": {
        "id": "wgL4lH4AfSmB"
      }
    },
    {
      "cell_type": "markdown",
      "source": [
        "**a) Todas as cadeias em {0,1}* que representam cada 1 seguido imediatamente de dois 0.**"
      ],
      "metadata": {
        "id": "Q66z_PjXdkTs"
      }
    },
    {
      "cell_type": "code",
      "source": [
        "class AutomatoFinitoDeterministico:\n",
        "    def __init__(self):\n",
        "        self.estados = {'q0', 'q1', 'q2', 'q3'}\n",
        "        self.alfabeto = {'0', '1'}\n",
        "        self.transicoes = {\n",
        "              'q0': {'0': 'q0', '1': 'q1'},\n",
        "              'q1': {'0': 'q2'},\n",
        "              'q2': {'0': 'q0'}\n",
        "        }\n",
        "        self.estadoInicial = 'q0'\n",
        "        self.estadoAceito = {'q0'} #Estado final\n",
        "\n",
        "    def validacao(self, input_string):\n",
        "        estado_atual = self.estadoInicial\n",
        "        for simbolo in input_string:\n",
        "            if simbolo not in self.alfabeto:\n",
        "                return False\n",
        "            estado_atual = self.transicoes[estado_atual][simbolo]\n",
        "        return estado_atual in self.estadoAceito\n",
        "\n",
        "afn = AutomatoFinitoDeterministico()\n",
        "\n",
        "# Lista para armazenar as entradas\n",
        "entradas = []\n",
        "\n",
        "# Inserção as entradas\n",
        "for _ in range(7):\n",
        "    entrada = input(\"Digite uma cadeia para verificar se é aceita pelo autômato: \")\n",
        "    entradas.append(entrada)\n",
        "\n",
        "# Valida e imprime saídas\n",
        "for entrada in entradas:\n",
        "    if afn.validacao(entrada):\n",
        "        print(f\"A cadeia '{entrada}' é aceita pelo autômato.\")\n",
        "    else:\n",
        "        print(f\"A cadeia '{entrada}' NÃO é aceita pelo autômato.\")\n"
      ],
      "metadata": {
        "colab": {
          "base_uri": "https://localhost:8080/"
        },
        "id": "3N7R2cj3J5Q-",
        "outputId": "cde06248-a5f3-4f63-ab75-a892faeb79ae"
      },
      "execution_count": null,
      "outputs": [
        {
          "output_type": "stream",
          "name": "stdout",
          "text": [
            "Digite uma cadeia para verificar se é aceita pelo autômato: 0\n",
            "Digite uma cadeia para verificar se é aceita pelo autômato: 0100\n",
            "Digite uma cadeia para verificar se é aceita pelo autômato: 100\n",
            "Digite uma cadeia para verificar se é aceita pelo autômato: 1\n",
            "Digite uma cadeia para verificar se é aceita pelo autômato: 1001\n",
            "Digite uma cadeia para verificar se é aceita pelo autômato: 010\n",
            "Digite uma cadeia para verificar se é aceita pelo autômato: 0001\n",
            "A cadeia '0' é aceita pelo autômato.\n",
            "A cadeia '0100' é aceita pelo autômato.\n",
            "A cadeia '100' é aceita pelo autômato.\n",
            "A cadeia '1' NÃO é aceita pelo autômato.\n",
            "A cadeia '1001' NÃO é aceita pelo autômato.\n",
            "A cadeia '010' NÃO é aceita pelo autômato.\n",
            "A cadeia '0001' NÃO é aceita pelo autômato.\n"
          ]
        }
      ]
    },
    {
      "cell_type": "markdown",
      "source": [
        "**b) Todas as cadeias em {a,b}* de modo que o último símbolo seja b e o número de símbolos a seja par.**"
      ],
      "metadata": {
        "id": "7pOlgZz9fdwJ"
      }
    },
    {
      "cell_type": "code",
      "source": [
        "class AutomatoFinitoDeterministico:\n",
        "    def __init__(self):\n",
        "        self.estados = {'q0', 'q1', 'q2'}\n",
        "        self.alfabeto = {'a', 'b'}\n",
        "        self.transicoes = {\n",
        "              'q0':{'a':'q1', 'b':'q2'},\n",
        "              'q1':{'a':'q0', 'b':'q1'},\n",
        "              'q2':{'a':'q1', 'b':'q2'}\n",
        "        }\n",
        "        self.estadoInicial = 'q0'\n",
        "        self.estadoAceito = {'q2'} #Estado final\n",
        "\n",
        "    def validacao(self, cadeia):\n",
        "        estado_atual = self.estadoInicial\n",
        "        num_a = 0\n",
        "        for simbolo in cadeia:\n",
        "            if simbolo not in self.alfabeto:\n",
        "                return False\n",
        "            if simbolo == 'a':\n",
        "                num_a += 1\n",
        "            estado_atual = self.transicoes[estado_atual][simbolo]\n",
        "        return estado_atual in self.estadoAceito and cadeia[-1] == 'b' and num_a % 2 == 0\n",
        "\n",
        "afd = AutomatoFinitoDeterministico()\n",
        "\n",
        "# Lista para armazenar as entradas\n",
        "entradas = []\n",
        "\n",
        "# Inserção as entradas\n",
        "for _ in range(8):\n",
        "    entrada = input(\"Digite uma cadeia para verificar se é aceita pelo autômato: \")\n",
        "    entradas.append(entrada)\n",
        "\n",
        "# Valida e imprime saídas\n",
        "for entrada in entradas:\n",
        "    if afd.validacao(entrada):\n",
        "        print(f\"A cadeia '{entrada}' é aceita pelo autômato.\")\n",
        "    else:\n",
        "        print(f\"A cadeia '{entrada}' NÃO é aceita pelo autômato.\")\n"
      ],
      "metadata": {
        "colab": {
          "base_uri": "https://localhost:8080/"
        },
        "id": "kTMHOu0ff9-g",
        "outputId": "90162d45-c8ba-4a2a-df52-f264cbc42450"
      },
      "execution_count": null,
      "outputs": [
        {
          "output_type": "stream",
          "name": "stdout",
          "text": [
            "Digite uma cadeia para verificar se é aceita pelo autômato: b\n",
            "Digite uma cadeia para verificar se é aceita pelo autômato: babab\n",
            "Digite uma cadeia para verificar se é aceita pelo autômato: baab\n",
            "Digite uma cadeia para verificar se é aceita pelo autômato: aab\n",
            "Digite uma cadeia para verificar se é aceita pelo autômato: a\n",
            "Digite uma cadeia para verificar se é aceita pelo autômato: ab\n",
            "Digite uma cadeia para verificar se é aceita pelo autômato: bab\n",
            "Digite uma cadeia para verificar se é aceita pelo autômato: aba\n",
            "A cadeia 'b' é aceita pelo autômato.\n",
            "A cadeia 'babab' é aceita pelo autômato.\n",
            "A cadeia 'baab' é aceita pelo autômato.\n",
            "A cadeia 'aab' é aceita pelo autômato.\n",
            "A cadeia 'a' NÃO é aceita pelo autômato.\n",
            "A cadeia 'ab' NÃO é aceita pelo autômato.\n",
            "A cadeia 'bab' NÃO é aceita pelo autômato.\n",
            "A cadeia 'aba' NÃO é aceita pelo autômato.\n"
          ]
        }
      ]
    },
    {
      "cell_type": "markdown",
      "source": [
        "# 2. Implemente um autômato finito que reconheça todas as ocorrências da palavra computador no texto T. O programa deve apontar em quais posições ocorreram o casamento exato da palavra.\n",
        "T = *“O computador é uma máquina capaz de variados tipos de tratamento automático de informações ou processamento de dados. Entende-se por computador um sistema físico que realiza algum tipo de computação. Assumiu-se que os computadores pessoais e laptops são ícones da era da informação. O primeiro computador eletromecânico foi construído por Konrad Zuse (1910–1995). Atualmente, um microcomputador é também chamado computador pessoal ou ainda computador doméstico.”*"
      ],
      "metadata": {
        "id": "HtOb0Lxtn4Qy"
      }
    },
    {
      "cell_type": "code",
      "source": [
        "import re\n",
        "\n",
        "class AutomatoComputador:\n",
        "    def __init__(self):\n",
        "        self.estados = ['q0', 'q1', 'q2', 'q3', 'q4', 'q5', 'q6', 'q7', 'q8', 'q9', 'q10']\n",
        "        self.estadoAceito = 'q8'\n",
        "        self.transicoes = {'q0':{'c':'q1'},\n",
        "                 'q1':{'o':'q2'},\n",
        "                 'q2':{'m':'q3'},\n",
        "                 'q3':{'p':'q4'},\n",
        "                 'q4':{'u':'q5'},\n",
        "                 'q5':{'t':'q6'},\n",
        "                 'q6':{'a':'q7'},\n",
        "                 'q7':{'d':'q8'},\n",
        "                 'q8':{'o':'q9'},\n",
        "                 'q9':{'r':'q10'},\n",
        "                 'q10':{}}\n",
        "\n",
        "    def validador(self, text):\n",
        "        estadoInicial = 'q0'\n",
        "        positions = []\n",
        "        for index, char in enumerate(text):\n",
        "            if char in self.transicoes[estadoInicial]:\n",
        "                estadoInicial = self.transicoes[estadoInicial][char]\n",
        "                if estadoInicial == self.estadoAceito:\n",
        "                    positions.append(index - 7)\n",
        "            else:\n",
        "                estadoInicial = 'q0'\n",
        "        return positions\n",
        "\n",
        "\n",
        "# Texto\n",
        "texto = \"O computador é uma máquina capaz de variados tipos de tratamento automático de informações ou processamento de dados. Entende-se por computador um sistema físico que realiza algum tipo de computação. Assumiu-se que os computadores pessoais e laptops são ícones da era da informação. O primeiro computador eletromecânico foi construído por Konrad Zuse (1910–1995). Atualmente, um microcomputador é também chamado computador pessoal ou ainda computador doméstico.\"\n",
        "\n",
        "# Expressão regular para encontrar a palavra \"computador\"\n",
        "padrao = r'\\bcomputador\\b'\n",
        "\n",
        "# Encontrar todas as ocorrências da palavra no texto\n",
        "ocorrencias = [(match.start(), match.end()) for match in re.finditer(padrao, texto, re.IGNORECASE)]\n",
        "\n",
        "# Imprime as posições onde a palavra \"computador\" ocorreu\n",
        "if ocorrencias:\n",
        "    print(\"Ocorrências da palavra 'computador' nas posições:\")\n",
        "    for inicio, fim in ocorrencias:\n",
        "        print(f\"Início: {inicio}, Fim: {fim}\")\n",
        "else:\n",
        "    print(\"Nenhuma ocorrência da palavra 'computador' foi encontrada no texto.\")\n",
        "\n"
      ],
      "metadata": {
        "colab": {
          "base_uri": "https://localhost:8080/"
        },
        "id": "oa09rCSikgd6",
        "outputId": "aa160677-4ae3-429b-e97f-66fc031342fe"
      },
      "execution_count": null,
      "outputs": [
        {
          "output_type": "stream",
          "name": "stdout",
          "text": [
            "Ocorrências da palavra 'computador' nas posições:\n",
            "Início: 2, Fim: 12\n",
            "Início: 133, Fim: 143\n",
            "Início: 294, Fim: 304\n",
            "Início: 412, Fim: 422\n",
            "Início: 440, Fim: 450\n"
          ]
        }
      ]
    },
    {
      "cell_type": "markdown",
      "source": [
        "# 3 - Implemente um transdutor finito (máquina de Moore ou Mealy) que, dada uma sequência de moedas de 25 e 50 centavos e de 1 real, forneça uma lata de refrigerante quando a sequência totalizar 1 real ou mais. Cada moeda inserida deverá corresponder a uma de duas saídas: 0, se uma lata não pode ser (ainda) liberada, ou 1, se uma lata deve ser liberada."
      ],
      "metadata": {
        "id": "0NBwHKAgHitP"
      }
    },
    {
      "cell_type": "code",
      "source": [
        "class MaquinaRefrigerante:\n",
        "    def __init__(self, transicoes, estado_inicial, estados_finais):\n",
        "        self.transicoes = transicoes\n",
        "        self.estado_inicial = estado_inicial\n",
        "        self.estados_finais = estados_finais\n",
        "        self.estado = estado_inicial\n",
        "\n",
        "    def inserir_moeda(self, moeda):\n",
        "        try:\n",
        "            movimento = self.transicoes[self.estado][moeda]\n",
        "            self.estado = movimento[0]\n",
        "\n",
        "            if self.estado in self.estados_finais and movimento[1] == 1:\n",
        "                return 1\n",
        "            else:\n",
        "                return 0\n",
        "        except KeyError:\n",
        "            return 0\n",
        "\n",
        "def processar_moedas(moedas):\n",
        "    transicoes = {\n",
        "        'q0': {'25': ['q1', 0], '50': ['q2', 0], '100': ['q0', 1]},\n",
        "        'q1': {'25': ['q2', 0], '50': ['q3', 0], '100': ['q1', 1]},\n",
        "        'q2': {'25': ['q3', 0], '50': ['q0', 1], '100': ['q2', 1]},\n",
        "        'q3': {'25': ['q0', 1], '50': ['q1', 1], '100': ['q3', 1]}\n",
        "    }\n",
        "\n",
        "    estado_inicial = 'q0'\n",
        "    estados_finais = {'q0', 'q1', 'q2', 'q3'}\n",
        "\n",
        "    transdutor = MaquinaRefrigerante(transicoes, estado_inicial, estados_finais)\n",
        "    saidas = []\n",
        "    for moeda in moedas:\n",
        "        saida = transdutor.inserir_moeda(str(moeda))\n",
        "        saidas.append(saida)\n",
        "        print(f\"Para R${moeda/100:.2f} -> Saída: {saida}\")\n",
        "    return saidas\n",
        "\n",
        "def obter_moedas():\n",
        "    try:\n",
        "        sequencia = input(\"Insira a sequência de moedas entre 25, 50 ou 100 centavos, separadas por espaços: \")\n",
        "        moedas = [int(moeda) for moeda in sequencia.split()]\n",
        "        return moedas\n",
        "    except ValueError:\n",
        "        print(\"Por favor, insira apenas números inteiros (25, 50 ou 100) para as moedas.\")\n",
        "        return []\n",
        "\n",
        "def main():\n",
        "    moedas = obter_moedas()\n",
        "    if moedas:\n",
        "        saidas = processar_moedas(moedas)\n",
        "    else:\n",
        "        print(\"Sequência inválida. Por favor, tente novamente.\")\n",
        "\n",
        "if __name__ == \"__main__\":\n",
        "    main()\n"
      ],
      "metadata": {
        "colab": {
          "base_uri": "https://localhost:8080/"
        },
        "id": "cb9_gZTMH19V",
        "outputId": "edfa32ec-e487-4d02-e299-07898f188a8c"
      },
      "execution_count": null,
      "outputs": [
        {
          "output_type": "stream",
          "name": "stdout",
          "text": [
            "Insira a sequência de moedas entre 25, 50 ou 100 centavos, separadas por espaços: 100 25 25 25 25 100 50 50 100 100 25 50 25 50 25 25 100\n",
            "Para R$1.00 -> Saída: 1\n",
            "Para R$0.25 -> Saída: 0\n",
            "Para R$0.25 -> Saída: 0\n",
            "Para R$0.25 -> Saída: 0\n",
            "Para R$0.25 -> Saída: 1\n",
            "Para R$1.00 -> Saída: 1\n",
            "Para R$0.50 -> Saída: 0\n",
            "Para R$0.50 -> Saída: 1\n",
            "Para R$1.00 -> Saída: 1\n",
            "Para R$1.00 -> Saída: 1\n",
            "Para R$0.25 -> Saída: 0\n",
            "Para R$0.50 -> Saída: 0\n",
            "Para R$0.25 -> Saída: 1\n",
            "Para R$0.50 -> Saída: 0\n",
            "Para R$0.25 -> Saída: 0\n",
            "Para R$0.25 -> Saída: 1\n",
            "Para R$1.00 -> Saída: 1\n"
          ]
        }
      ]
    }
  ]
}